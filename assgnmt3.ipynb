{
 "cells": [
  {
   "cell_type": "markdown",
   "id": "6b61cd35-660f-44df-a729-ba5659b5a6f9",
   "metadata": {},
   "source": [
    "Q1. Which keyword is used to create a function? Create a function to return a list of odd numbers in the range of 1 to 25?"
   ]
  },
  {
   "cell_type": "code",
   "execution_count": 1,
   "id": "bf46992b-2795-40ad-b493-b56971cb6c05",
   "metadata": {},
   "outputs": [],
   "source": [
    "#keyword \"def\" which means define a function is used to create a function.\n",
    "l=[]\n",
    "def odd_numbers(n):\n",
    "    for i in n:\n",
    "        if i%2!=0:\n",
    "            l.append(i)\n",
    "        else :\n",
    "            True\n",
    "    "
   ]
  },
  {
   "cell_type": "code",
   "execution_count": 2,
   "id": "ef1703b6-775e-41a9-b7ad-8dcf211db386",
   "metadata": {},
   "outputs": [
    {
     "data": {
      "text/plain": [
       "[1, 3, 5, 7, 9, 11, 13, 15, 17, 19, 21, 23]"
      ]
     },
     "execution_count": 2,
     "metadata": {},
     "output_type": "execute_result"
    }
   ],
   "source": [
    "odd_numbers(range(25))\n",
    "l"
   ]
  },
  {
   "cell_type": "markdown",
   "id": "1e5fb7ef-f65a-44d5-93cf-2b2009ee9e0f",
   "metadata": {},
   "source": [
    "Q2. Why *args and **kwargs is used in some functions? Create a function each for *args and **kwargs to demonstrate their use."
   ]
  },
  {
   "cell_type": "code",
   "execution_count": 3,
   "id": "fca7859e-8895-4f81-b3dc-45a735828b7b",
   "metadata": {},
   "outputs": [],
   "source": [
    "#we can pass a variable number of arguments to a function using *args and **kwargs\n",
    "#they are also called a special symbols "
   ]
  },
  {
   "cell_type": "code",
   "execution_count": 4,
   "id": "56c96e74-04eb-4b6d-8aaa-aaa8626619e9",
   "metadata": {},
   "outputs": [],
   "source": [
    "#1 *args(Non-Keyword Arguments)\n",
    "#2 **kwargs(Keyword Arguments)"
   ]
  },
  {
   "cell_type": "code",
   "execution_count": 5,
   "id": "4b10e724-e577-458b-a628-164509e25c1b",
   "metadata": {},
   "outputs": [],
   "source": [
    "def Test(*arg):\n",
    "    return arg"
   ]
  },
  {
   "cell_type": "code",
   "execution_count": 6,
   "id": "65678322-0bc8-488b-8013-079e72dcf742",
   "metadata": {},
   "outputs": [
    {
     "data": {
      "text/plain": [
       "('sayyed', True, 3846, 34873.6767, 'sayyed')"
      ]
     },
     "execution_count": 6,
     "metadata": {},
     "output_type": "execute_result"
    }
   ],
   "source": [
    "Test('sayyed',True, 3846,34873.6767, \"sayyed\")"
   ]
  },
  {
   "cell_type": "code",
   "execution_count": 7,
   "id": "d01e3fad-072f-4bff-a268-be2b648017ae",
   "metadata": {},
   "outputs": [
    {
     "data": {
      "text/plain": [
       "function"
      ]
     },
     "execution_count": 7,
     "metadata": {},
     "output_type": "execute_result"
    }
   ],
   "source": [
    "type (Test)"
   ]
  },
  {
   "cell_type": "code",
   "execution_count": 8,
   "id": "cae651c0-288f-4c29-a726-e0882be6cb06",
   "metadata": {},
   "outputs": [],
   "source": [
    "def Test_1(**kwargs):\n",
    "    return kwargs\n"
   ]
  },
  {
   "cell_type": "code",
   "execution_count": 9,
   "id": "c5064268-9734-4b3f-8865-81b63d6f5f46",
   "metadata": {},
   "outputs": [
    {
     "data": {
      "text/plain": [
       "{'complex': 746.75}"
      ]
     },
     "execution_count": 9,
     "metadata": {},
     "output_type": "execute_result"
    }
   ],
   "source": [
    "Test_1 ( complex=746.75)"
   ]
  },
  {
   "cell_type": "markdown",
   "id": "fccf445f-05e8-4d59-b859-e3f85f12f723",
   "metadata": {},
   "source": [
    "Q3. What is an iterator in python? Name the method used to initialise the iterator object and the method used for iteration. Use these methods to print the first five elements of the given list [2, 4, 6, 8, 10, 12, 14,16, 18, 20]."
   ]
  },
  {
   "cell_type": "code",
   "execution_count": 10,
   "id": "1315f782-4dee-4e58-81ab-37510d4d7a3d",
   "metadata": {},
   "outputs": [],
   "source": [
    "#ans: an iterator in python is an object that is used to iterate over iterable objects like list, tuples ,dicts and sets.\n",
    "#The python iterators object is initialized using the {iter()} snd it uses the{next()} method for iteration\n"
   ]
  },
  {
   "cell_type": "code",
   "execution_count": 11,
   "id": "97c24a93-9519-4f7b-b53f-dcbcfb58bd68",
   "metadata": {},
   "outputs": [],
   "source": [
    "given_list = [2, 4, 6, 8, 10, 12, 14,16, 18, 20]"
   ]
  },
  {
   "cell_type": "code",
   "execution_count": 12,
   "id": "9fc5a6b4-20d0-4c7d-bd03-258816be4134",
   "metadata": {},
   "outputs": [
    {
     "name": "stdout",
     "output_type": "stream",
     "text": [
      "2\n",
      "4\n",
      "6\n",
      "8\n",
      "10\n"
     ]
    }
   ],
   "source": [
    "c=5\n",
    "b = iter(given_list)\n",
    "while c>0:\n",
    "    print(next(b))\n",
    "    c-=1"
   ]
  },
  {
   "cell_type": "markdown",
   "id": "917b8b75-9efe-41a9-a1d1-ec034174024a",
   "metadata": {},
   "source": [
    "Q4. What is a generator function in python? Why yield keyword is used? Give an example of a generator function."
   ]
  },
  {
   "cell_type": "code",
   "execution_count": 13,
   "id": "27654739-fed6-4209-bd7a-0684571997dc",
   "metadata": {},
   "outputs": [],
   "source": [
    "#ans: basically generator function is used to reduce memory cosuption\n",
    "#for example if we have to write first 15 fibonacci series number\n"
   ]
  },
  {
   "cell_type": "code",
   "execution_count": 14,
   "id": "3ce54c3a-a8b3-4328-8621-e0952e4c99e1",
   "metadata": {},
   "outputs": [],
   "source": [
    "\n",
    "def fib(n):\n",
    "    a,b = 0,1\n",
    "    for i in range(n):\n",
    "        yield a\n",
    "        a,b = b , a+b\n",
    "       "
   ]
  },
  {
   "cell_type": "code",
   "execution_count": 15,
   "id": "e3c5053b-d058-4207-94d5-f4d3c1834c84",
   "metadata": {},
   "outputs": [
    {
     "data": {
      "text/plain": [
       "<generator object fib at 0x7fdc6d1fdd90>"
      ]
     },
     "execution_count": 15,
     "metadata": {},
     "output_type": "execute_result"
    }
   ],
   "source": [
    "fib(15)"
   ]
  },
  {
   "cell_type": "code",
   "execution_count": 16,
   "id": "15e2e756-b54e-402e-a77c-be0b6ba17c7c",
   "metadata": {},
   "outputs": [
    {
     "name": "stdout",
     "output_type": "stream",
     "text": [
      "0\n",
      "1\n",
      "1\n",
      "2\n",
      "3\n",
      "5\n",
      "8\n",
      "13\n",
      "21\n",
      "34\n",
      "55\n",
      "89\n",
      "144\n",
      "233\n",
      "377\n"
     ]
    }
   ],
   "source": [
    "for i in fib(15):\n",
    "    print(i)"
   ]
  },
  {
   "cell_type": "markdown",
   "id": "1b87864f-ea95-45ea-80c7-afd45c6b5445",
   "metadata": {},
   "source": [
    "Q5. Create a generator function for prime numbers less than 1000. Use the next() method to print the first 20 prime numbers."
   ]
  },
  {
   "cell_type": "code",
   "execution_count": 17,
   "id": "1ac53035-df07-4905-8f8d-72b5e0524eb3",
   "metadata": {},
   "outputs": [],
   "source": [
    "#first we make function for check the number is prime or not\n",
    "def check_prime(n):\n",
    "    if n<2:\n",
    "        return False\n",
    "    for i in range(2, int(n**0.5) + 1):\n",
    "        if n % i == 0:\n",
    "            return False\n",
    "    return True"
   ]
  },
  {
   "cell_type": "code",
   "execution_count": 18,
   "id": "cfd1370c-722e-4138-a9e7-9d8a9cc81e4c",
   "metadata": {},
   "outputs": [],
   "source": [
    "#we make generator\n",
    "def prime_generator():\n",
    "    n = 2\n",
    "    count = 0\n",
    "    while count < 20:\n",
    "        if check_prime(n):\n",
    "            yield n\n",
    "            count += 1\n",
    "        n += 1"
   ]
  },
  {
   "cell_type": "code",
   "execution_count": 19,
   "id": "b5791cd4-cda0-48f6-9214-29b213d2e189",
   "metadata": {},
   "outputs": [
    {
     "name": "stdout",
     "output_type": "stream",
     "text": [
      "2\n",
      "3\n",
      "5\n",
      "7\n",
      "11\n",
      "13\n",
      "17\n",
      "19\n",
      "23\n",
      "29\n",
      "31\n",
      "37\n",
      "41\n",
      "43\n",
      "47\n",
      "53\n",
      "59\n",
      "61\n",
      "67\n",
      "71\n"
     ]
    }
   ],
   "source": [
    "#we print first 20 primes\n",
    "\n",
    "prime_gen = prime_generator()\n",
    "for _ in range(20):\n",
    "    print(next(prime_gen))\n",
    "    "
   ]
  },
  {
   "cell_type": "markdown",
   "id": "695b7aa9-a28a-47bf-a399-ff67ac930ea5",
   "metadata": {},
   "source": [
    "Q6. Write a python program to print the first 10 Fibonacci numbers using a while loop."
   ]
  },
  {
   "cell_type": "code",
   "execution_count": 20,
   "id": "f5f23cd8-171d-4c30-af04-3c17f6d347c8",
   "metadata": {},
   "outputs": [],
   "source": [
    "def fibonacci(n):\n",
    "    a,b=0,1\n",
    "    count=2\n",
    "    while count<10:\n",
    "        for i in range(n):\n",
    "            yield a\n",
    "            count+=1\n",
    "            a,b= b,a+b\n",
    "        "
   ]
  },
  {
   "cell_type": "code",
   "execution_count": 21,
   "id": "299c8e2e-87c0-49b1-a74b-665590c3e064",
   "metadata": {},
   "outputs": [
    {
     "name": "stdout",
     "output_type": "stream",
     "text": [
      "0\n",
      "1\n",
      "1\n",
      "2\n",
      "3\n",
      "5\n",
      "8\n",
      "13\n",
      "21\n",
      "34\n"
     ]
    }
   ],
   "source": [
    "for i in fibonacci(10):\n",
    "    print (i)"
   ]
  },
  {
   "cell_type": "markdown",
   "id": "5c761d55-acb6-4d54-8fca-3d67ddb44de7",
   "metadata": {},
   "source": [
    "Q7. Write a List Comprehension to iterate through the given string: ‘pwskills’.\n",
    "Expected output: ['p', 'w', 's', 'k', 'i', 'l', 'l', 's']"
   ]
  },
  {
   "cell_type": "code",
   "execution_count": 22,
   "id": "7ca9bfd5-7b06-41ee-96b5-98e1b029c692",
   "metadata": {},
   "outputs": [],
   "source": [
    "given_string=\"PWSKILLS\""
   ]
  },
  {
   "cell_type": "code",
   "execution_count": 23,
   "id": "cbfc8545-fbbc-4e2f-a870-69c17b1a6ef1",
   "metadata": {},
   "outputs": [
    {
     "data": {
      "text/plain": [
       "['P', 'W', 'S', 'K', 'I', 'L', 'L', 'S']"
      ]
     },
     "execution_count": 23,
     "metadata": {},
     "output_type": "execute_result"
    }
   ],
   "source": [
    "\n",
    "output=[]\n",
    "for i in given_string:\n",
    "    output.append(i)\n",
    "output"
   ]
  },
  {
   "cell_type": "markdown",
   "id": "50bce16a-585a-42c8-af22-7d918e96a759",
   "metadata": {},
   "source": [
    "Q8. Write a python program to check whether a given number is Palindrome or not using a while loop."
   ]
  },
  {
   "cell_type": "code",
   "execution_count": 24,
   "id": "d4049455-85e9-4b71-9661-3d2b12b463b1",
   "metadata": {},
   "outputs": [
    {
     "name": "stdin",
     "output_type": "stream",
     "text": [
      "Enter number to check Plaindrome 1234321\n"
     ]
    },
    {
     "name": "stdout",
     "output_type": "stream",
     "text": [
      "1234321 is Palindrome number\n"
     ]
    }
   ],
   "source": [
    "n=int(input(\"Enter number to check Plaindrome\"))\n",
    "def Check_Palindrome(n):\n",
    "    Reverse_number=0\n",
    "    Temp_number=n\n",
    "    while Temp_number>0:\n",
    "        Reverse_number=(Reverse_number*10) + (Temp_number%10)\n",
    "        Temp_number//=10\n",
    "    return n== Reverse_number\n",
    "\n",
    "if Check_Palindrome(n):\n",
    "    print(f\"{n} is Palindrome number\")\n",
    "else:\n",
    "    print(f\"{n} is not Palindrome number\")"
   ]
  },
  {
   "cell_type": "markdown",
   "id": "18a0dbbd-e228-442c-9a73-ea4ecf277715",
   "metadata": {},
   "source": [
    "Q9. Write a code to print odd numbers from 1 to 100 using list comprehension.\n",
    "\n",
    "Note: Use a list comprehension to create a list from 1 to 100 and use another List comprehension to filter out odd numbers."
   ]
  },
  {
   "cell_type": "code",
   "execution_count": 25,
   "id": "b76240ed-19a9-4ff3-8725-07e5e05fe217",
   "metadata": {},
   "outputs": [
    {
     "data": {
      "text/plain": [
       "[1,\n",
       " 3,\n",
       " 5,\n",
       " 7,\n",
       " 9,\n",
       " 11,\n",
       " 13,\n",
       " 15,\n",
       " 17,\n",
       " 19,\n",
       " 21,\n",
       " 23,\n",
       " 25,\n",
       " 27,\n",
       " 29,\n",
       " 31,\n",
       " 33,\n",
       " 35,\n",
       " 37,\n",
       " 39,\n",
       " 41,\n",
       " 43,\n",
       " 45,\n",
       " 47,\n",
       " 49,\n",
       " 51,\n",
       " 53,\n",
       " 55,\n",
       " 57,\n",
       " 59,\n",
       " 61,\n",
       " 63,\n",
       " 65,\n",
       " 67,\n",
       " 69,\n",
       " 71,\n",
       " 73,\n",
       " 75,\n",
       " 77,\n",
       " 79,\n",
       " 81,\n",
       " 83,\n",
       " 85,\n",
       " 87,\n",
       " 89,\n",
       " 91,\n",
       " 93,\n",
       " 95,\n",
       " 97,\n",
       " 99]"
      ]
     },
     "execution_count": 25,
     "metadata": {},
     "output_type": "execute_result"
    }
   ],
   "source": [
    "#first method\n",
    "Numbers=[]\n",
    "for i in range(1,101):\n",
    "    Numbers.append(i)\n",
    "    \n",
    "Odd_numbers=[]\n",
    "for i in Numbers:\n",
    "    if i%2==0:\n",
    "        True\n",
    "    else:\n",
    "        Odd_numbers.append(i)\n",
    "        \n",
    "Odd_numbers"
   ]
  },
  {
   "cell_type": "code",
   "execution_count": 26,
   "id": "f375993f-72bf-4bab-b8ba-b9b61c570cf6",
   "metadata": {},
   "outputs": [
    {
     "data": {
      "text/plain": [
       "[1,\n",
       " 3,\n",
       " 5,\n",
       " 7,\n",
       " 9,\n",
       " 11,\n",
       " 13,\n",
       " 15,\n",
       " 17,\n",
       " 19,\n",
       " 21,\n",
       " 23,\n",
       " 25,\n",
       " 27,\n",
       " 29,\n",
       " 31,\n",
       " 33,\n",
       " 35,\n",
       " 37,\n",
       " 39,\n",
       " 41,\n",
       " 43,\n",
       " 45,\n",
       " 47,\n",
       " 49,\n",
       " 51,\n",
       " 53,\n",
       " 55,\n",
       " 57,\n",
       " 59,\n",
       " 61,\n",
       " 63,\n",
       " 65,\n",
       " 67,\n",
       " 69,\n",
       " 71,\n",
       " 73,\n",
       " 75,\n",
       " 77,\n",
       " 79,\n",
       " 81,\n",
       " 83,\n",
       " 85,\n",
       " 87,\n",
       " 89,\n",
       " 91,\n",
       " 93,\n",
       " 95,\n",
       " 97,\n",
       " 99]"
      ]
     },
     "execution_count": 26,
     "metadata": {},
     "output_type": "execute_result"
    }
   ],
   "source": [
    "#second method\n",
    "Numbers=[i for i in range (1,101)]\n",
    "Odd_numbers=list(filter(lambda x:x%2!=0, Numbers))\n",
    "Odd_numbers"
   ]
  },
  {
   "cell_type": "code",
   "execution_count": null,
   "id": "4e63379e-a61e-4b4f-95f1-3eb72e649771",
   "metadata": {},
   "outputs": [],
   "source": []
  },
  {
   "cell_type": "code",
   "execution_count": null,
   "id": "7255ad64-a287-4eff-a701-a34050e2ec54",
   "metadata": {},
   "outputs": [],
   "source": []
  },
  {
   "cell_type": "code",
   "execution_count": null,
   "id": "e555eb49-e0b7-4fe4-bb79-48fdb56d4fac",
   "metadata": {},
   "outputs": [],
   "source": []
  },
  {
   "cell_type": "code",
   "execution_count": null,
   "id": "e382d8b7-eace-4ab8-a6a4-41e871d02f2e",
   "metadata": {},
   "outputs": [],
   "source": []
  }
 ],
 "metadata": {
  "kernelspec": {
   "display_name": "Python 3 (ipykernel)",
   "language": "python",
   "name": "python3"
  },
  "language_info": {
   "codemirror_mode": {
    "name": "ipython",
    "version": 3
   },
   "file_extension": ".py",
   "mimetype": "text/x-python",
   "name": "python",
   "nbconvert_exporter": "python",
   "pygments_lexer": "ipython3",
   "version": "3.10.8"
  }
 },
 "nbformat": 4,
 "nbformat_minor": 5
}
